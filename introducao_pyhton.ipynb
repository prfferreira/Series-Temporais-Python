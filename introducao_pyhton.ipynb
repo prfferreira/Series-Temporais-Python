{
  "nbformat": 4,
  "nbformat_minor": 0,
  "metadata": {
    "colab": {
      "provenance": [],
      "collapsed_sections": []
    },
    "kernelspec": {
      "name": "python3",
      "display_name": "Python 3"
    },
    "language_info": {
      "name": "python"
    }
  },
  "cells": [
    {
      "cell_type": "markdown",
      "source": [
        "# **Introducao ao Python**\n",
        "\n",
        "**prof: Sergio Assuncao Monteiro, DSc**\n",
        "\n",
        "linkedin: https://www.linkedin.com/in/sergio-assun%C3%A7%C3%A3o-monteiro-b781897b/\n",
        "\n",
        "lattes: http://lattes.cnpq.br/9489191035734025"
      ],
      "metadata": {
        "id": "Gv1NXruMUMEl"
      }
    },
    {
      "cell_type": "markdown",
      "source": [
        "# **Entrada e Saida de Dados**"
      ],
      "metadata": {
        "id": "1_BoLr93VB_B"
      }
    },
    {
      "cell_type": "code",
      "execution_count": 9,
      "metadata": {
        "colab": {
          "base_uri": "https://localhost:8080/"
        },
        "id": "pue8bR-PUHOc",
        "outputId": "dbd4b7bf-f1f0-44ce-f9c9-414dd016421a"
      },
      "outputs": [
        {
          "output_type": "stream",
          "name": "stdout",
          "text": [
            "Olah, Mundo!\n"
          ]
        }
      ],
      "source": [
        "print(\"Olah, Mundo!\")"
      ]
    },
    {
      "cell_type": "code",
      "source": [
        "print(12345)"
      ],
      "metadata": {
        "colab": {
          "base_uri": "https://localhost:8080/"
        },
        "id": "Tfa7T7ciVSCn",
        "outputId": "c5cf61cc-8c84-42ac-f915-47f1f89314e8"
      },
      "execution_count": 10,
      "outputs": [
        {
          "output_type": "stream",
          "name": "stdout",
          "text": [
            "12345\n"
          ]
        }
      ]
    },
    {
      "cell_type": "code",
      "source": [
        "#Aspas simples\n",
        "print('valor',12345)\n",
        "print('valor = {}'.format(12345))\n",
        "print(f'valor = {12345}')"
      ],
      "metadata": {
        "colab": {
          "base_uri": "https://localhost:8080/"
        },
        "id": "YSSjXbEAVJPY",
        "outputId": "f77b5097-b6d7-45d5-a8dd-8036f221d68a"
      },
      "execution_count": 11,
      "outputs": [
        {
          "output_type": "stream",
          "name": "stdout",
          "text": [
            "valor 12345\n",
            "valor = 12345\n",
            "valor = 12345\n"
          ]
        }
      ]
    },
    {
      "cell_type": "code",
      "source": [
        "#Aspas duplas\n",
        "print(\"valor\",12345)\n",
        "print(\"valor = {}\".format(12345))\n",
        "print(f\"valor = {12345}\")"
      ],
      "metadata": {
        "colab": {
          "base_uri": "https://localhost:8080/"
        },
        "id": "tH4T3n1zVPWH",
        "outputId": "8baa8338-10a9-4ae2-e7ce-48cf18235307"
      },
      "execution_count": 12,
      "outputs": [
        {
          "output_type": "stream",
          "name": "stdout",
          "text": [
            "valor 12345\n",
            "valor = 12345\n",
            "valor = 12345\n"
          ]
        }
      ]
    },
    {
      "cell_type": "code",
      "source": [
        "#Variavel string\n",
        "var_string = 'exemplo de string em Python'\n",
        "print(var_string)\n",
        "print('valor da variavel nome = {}'.format(var_string))\n",
        "print(f'valor da variavel nome = {var_string}')\n",
        "print(f\"valor da variavel nome = {var_string}\")"
      ],
      "metadata": {
        "colab": {
          "base_uri": "https://localhost:8080/"
        },
        "id": "igii6gMDVXsu",
        "outputId": "d8356d1c-b235-4e3f-c61a-65d59e74d47a"
      },
      "execution_count": 13,
      "outputs": [
        {
          "output_type": "stream",
          "name": "stdout",
          "text": [
            "exemplo de string em Python\n",
            "valor da variavel nome = exemplo de string em Python\n",
            "valor da variavel nome = exemplo de string em Python\n",
            "valor da variavel nome = exemplo de string em Python\n"
          ]
        }
      ]
    },
    {
      "cell_type": "code",
      "source": [
        "#Variável numérica\n",
        "var_numero = 11062022\n",
        "print(var_numero)\n",
        "print('valor da variável numero = {}'.format(var_numero))\n",
        "print(f'valor da variável numero = {var_numero}')"
      ],
      "metadata": {
        "colab": {
          "base_uri": "https://localhost:8080/"
        },
        "id": "91lfH33aVhj0",
        "outputId": "11a74ef8-5fc0-4781-8d7b-a91ae2099df9"
      },
      "execution_count": 14,
      "outputs": [
        {
          "output_type": "stream",
          "name": "stdout",
          "text": [
            "11062022\n",
            "valor da variável numero = 11062022\n",
            "valor da variável numero = 11062022\n"
          ]
        }
      ]
    },
    {
      "cell_type": "code",
      "source": [
        "#Entrada de dados\n",
        "valor = int(input(\"Entre com um número: \"))"
      ],
      "metadata": {
        "colab": {
          "base_uri": "https://localhost:8080/"
        },
        "id": "fV_ILme3Vm5L",
        "outputId": "29570f74-13ee-4288-88b7-27d96df23af1"
      },
      "execution_count": 15,
      "outputs": [
        {
          "name": "stdout",
          "output_type": "stream",
          "text": [
            "Entre com um número: 10\n"
          ]
        }
      ]
    },
    {
      "cell_type": "markdown",
      "source": [
        "# **Comandos Condicionais**"
      ],
      "metadata": {
        "id": "MiqLX9nGV-j_"
      }
    },
    {
      "cell_type": "markdown",
      "source": [
        "**Verificar se um número é divisível por 10.**"
      ],
      "metadata": {
        "id": "Jo9yzTNWW7ss"
      }
    },
    {
      "cell_type": "code",
      "source": [
        "a = int(input(\"Digite um numero: \"))\n",
        "if a % 10==0:\n",
        "  print(f'O numero {a} eh divisivel por 10.')\n",
        "else:\n",
        "  print(f'O numero {a} NAO é divisivel por 10.')"
      ],
      "metadata": {
        "colab": {
          "base_uri": "https://localhost:8080/"
        },
        "id": "9MzclxAjWAu_",
        "outputId": "a4149c59-6d66-4faa-a387-dc9a64e1be9e"
      },
      "execution_count": 16,
      "outputs": [
        {
          "output_type": "stream",
          "name": "stdout",
          "text": [
            "Digite um numero: 130\n",
            "O numero 130 eh divisivel por 10.\n"
          ]
        }
      ]
    },
    {
      "cell_type": "markdown",
      "source": [
        "**Exemplo: Dados dois numeros, encontrar o maior deles.**"
      ],
      "metadata": {
        "id": "ifqRG28BXYyX"
      }
    },
    {
      "cell_type": "code",
      "source": [
        "#Estrategia 01\n",
        "a = int(input(\"Digite um numero: \"))\n",
        "b = int(input(\"Digite um numero: \"))\n",
        "if(a > b):\n",
        "  maior = a\n",
        "else:\n",
        "  maior = b\n",
        "print(f'O maior numero eh: {maior}')"
      ],
      "metadata": {
        "colab": {
          "base_uri": "https://localhost:8080/"
        },
        "id": "7TeYkkknW25k",
        "outputId": "f0df5108-7d37-42fd-f814-34eea4c1cdc8"
      },
      "execution_count": 17,
      "outputs": [
        {
          "output_type": "stream",
          "name": "stdout",
          "text": [
            "Digite um numero: 561\n",
            "Digite um numero: 983\n",
            "O maior numero eh: 983\n"
          ]
        }
      ]
    },
    {
      "cell_type": "code",
      "source": [
        "#Estrategia 02\n",
        "a = int(input(\"Digite um numero: \"))\n",
        "b = int(input(\"Digite um numero: \"))\n",
        "maior = a\n",
        "if(b>maior):\n",
        "  maior = b\n",
        "print(f'O maior numero eh: {maior}')"
      ],
      "metadata": {
        "colab": {
          "base_uri": "https://localhost:8080/"
        },
        "id": "vH8LFOKaYIne",
        "outputId": "f588ba2a-f0eb-451d-c4c0-d3b761e58693"
      },
      "execution_count": 18,
      "outputs": [
        {
          "output_type": "stream",
          "name": "stdout",
          "text": [
            "Digite um numero: 59\n",
            "Digite um numero: 78\n",
            "O maior numero eh: 78\n"
          ]
        }
      ]
    },
    {
      "cell_type": "markdown",
      "source": [
        "# **Comandos Iterativos**"
      ],
      "metadata": {
        "id": "6kq9rNzhWBHG"
      }
    },
    {
      "cell_type": "code",
      "source": [
        "contador=0\n",
        "s = ''\n",
        "while (contador < 10):\n",
        "  s = s + str(contador)+ ' '\n",
        "  contador = contador + 1\n",
        "print(s)"
      ],
      "metadata": {
        "colab": {
          "base_uri": "https://localhost:8080/"
        },
        "id": "s9skhOlRYZ_7",
        "outputId": "db055375-4e42-4832-c749-f383119d58c2"
      },
      "execution_count": 19,
      "outputs": [
        {
          "output_type": "stream",
          "name": "stdout",
          "text": [
            "0 1 2 3 4 5 6 7 8 9 \n"
          ]
        }
      ]
    },
    {
      "cell_type": "code",
      "source": [
        "s = ''\n",
        "for contador in range(10):\n",
        "  s = s + str(contador)+ ' '  \n",
        "print(s)"
      ],
      "metadata": {
        "colab": {
          "base_uri": "https://localhost:8080/"
        },
        "id": "aIiVxtdEYa3a",
        "outputId": "2c4dc6df-fdeb-4f70-c504-41d8b0ccb7ab"
      },
      "execution_count": 20,
      "outputs": [
        {
          "output_type": "stream",
          "name": "stdout",
          "text": [
            "0 1 2 3 4 5 6 7 8 9 \n"
          ]
        }
      ]
    },
    {
      "cell_type": "markdown",
      "source": [
        "# **Listas**"
      ],
      "metadata": {
        "id": "zEtp03VbYl8Q"
      }
    },
    {
      "cell_type": "code",
      "source": [
        "lista = [101,202,303,404,505]\n",
        "print(lista)"
      ],
      "metadata": {
        "colab": {
          "base_uri": "https://localhost:8080/"
        },
        "id": "Jvjpy7vCYpbB",
        "outputId": "a486f2dd-6497-4217-ec32-0ebc4d1d4375"
      },
      "execution_count": 21,
      "outputs": [
        {
          "output_type": "stream",
          "name": "stdout",
          "text": [
            "[101, 202, 303, 404, 505]\n"
          ]
        }
      ]
    },
    {
      "cell_type": "code",
      "source": [
        "print(f'lista[0] = {lista[0]} e lista[3] = {lista[3]}')"
      ],
      "metadata": {
        "colab": {
          "base_uri": "https://localhost:8080/"
        },
        "id": "BjKGbRLCYr4P",
        "outputId": "82f92a2e-02cd-4872-abc8-e5953e3b65b8"
      },
      "execution_count": 22,
      "outputs": [
        {
          "output_type": "stream",
          "name": "stdout",
          "text": [
            "lista[0] = 101 e lista[3] = 404\n"
          ]
        }
      ]
    },
    {
      "cell_type": "code",
      "source": [
        "#indexacao explicita da lista\n",
        "n = len(lista)\n",
        "s = ''\n",
        "for i in range(n):\n",
        "  s = s + str(lista[i])+ ' '\n",
        "print(s)"
      ],
      "metadata": {
        "colab": {
          "base_uri": "https://localhost:8080/"
        },
        "id": "yMowqYD1YxZW",
        "outputId": "751d660e-03b2-4249-ef45-8e03341e1314"
      },
      "execution_count": 23,
      "outputs": [
        {
          "output_type": "stream",
          "name": "stdout",
          "text": [
            "101 202 303 404 505 \n"
          ]
        }
      ]
    },
    {
      "cell_type": "code",
      "source": [
        "#paradigma funcional\n",
        "s = ''\n",
        "for a in lista:\n",
        "  s = s + str(a)+ ' '\n",
        "print(s)"
      ],
      "metadata": {
        "colab": {
          "base_uri": "https://localhost:8080/"
        },
        "id": "0tFPxQp3Yzmd",
        "outputId": "b61f5425-adbf-44db-c2cb-6781e77387da"
      },
      "execution_count": 24,
      "outputs": [
        {
          "output_type": "stream",
          "name": "stdout",
          "text": [
            "101 202 303 404 505 \n"
          ]
        }
      ]
    },
    {
      "cell_type": "markdown",
      "source": [
        "# **Vetores**"
      ],
      "metadata": {
        "id": "sdghJMr8ZXMf"
      }
    },
    {
      "cell_type": "code",
      "source": [
        "import numpy as np\n",
        "vetor_teste = np.array([1,2,3,4,5])\n",
        "print(\"vetor:{}\".format(vetor_teste))"
      ],
      "metadata": {
        "colab": {
          "base_uri": "https://localhost:8080/"
        },
        "id": "mdX8ownJZbv2",
        "outputId": "00d54a15-55aa-420a-ae40-62f4b78f27d5"
      },
      "execution_count": 25,
      "outputs": [
        {
          "output_type": "stream",
          "name": "stdout",
          "text": [
            "vetor:[1 2 3 4 5]\n"
          ]
        }
      ]
    },
    {
      "cell_type": "code",
      "source": [
        "import numpy as np\n",
        "vetor = np.array([5,21,33,54,85])\n",
        "posicao = 3\n",
        "print(\"vetor[{}]={}\".format(posicao,vetor[posicao]))"
      ],
      "metadata": {
        "colab": {
          "base_uri": "https://localhost:8080/"
        },
        "id": "t2WJ9NuGZfsG",
        "outputId": "f75d52cf-9018-4c15-8168-fcc51affa89d"
      },
      "execution_count": 26,
      "outputs": [
        {
          "output_type": "stream",
          "name": "stdout",
          "text": [
            "vetor[3]=54\n"
          ]
        }
      ]
    },
    {
      "cell_type": "code",
      "source": [
        "import numpy as np\n",
        "vetor1 = np.array([5,21,33,54,85])\n",
        "vetor2 = np.array([6,7,8,9,10])\n",
        "vetor3 = vetor1 + vetor2\n",
        "print(\"soma dos vetores:{}\".format(vetor3))"
      ],
      "metadata": {
        "colab": {
          "base_uri": "https://localhost:8080/"
        },
        "id": "7pj5u0bVZi39",
        "outputId": "84877de1-f22e-4ccd-e721-0ad2d7227c21"
      },
      "execution_count": 27,
      "outputs": [
        {
          "output_type": "stream",
          "name": "stdout",
          "text": [
            "soma dos vetores:[11 28 41 63 95]\n"
          ]
        }
      ]
    },
    {
      "cell_type": "code",
      "source": [
        "vetor = np.array([5,21,33,6,7,8,9,10,54,85])\n",
        "print(f'Tipo: {type(vetor)}')\n",
        "print(f'Dimensoes: {vetor.ndim}')\n",
        "print(f'Tamanho das dimensoes: {vetor.shape}')\n",
        "print(f'Total de elementos: {vetor.size}')\n",
        "print(f'posicao 1 = {vetor[0]}')\n",
        "print(f'posicao 5 = {vetor[4]}')"
      ],
      "metadata": {
        "colab": {
          "base_uri": "https://localhost:8080/"
        },
        "id": "UIPhY7aVZlnt",
        "outputId": "0303e518-e8e5-41d0-a2f2-77c120d0f74e"
      },
      "execution_count": 28,
      "outputs": [
        {
          "output_type": "stream",
          "name": "stdout",
          "text": [
            "Tipo: <class 'numpy.ndarray'>\n",
            "Dimensoes: 1\n",
            "Tamanho das dimensoes: (10,)\n",
            "Total de elementos: 10\n",
            "posicao 1 = 5\n",
            "posicao 5 = 7\n"
          ]
        }
      ]
    },
    {
      "cell_type": "markdown",
      "source": [
        "# **Dataframe**"
      ],
      "metadata": {
        "id": "MMf0hc6ZakVJ"
      }
    },
    {
      "cell_type": "markdown",
      "source": [
        "**exemplo 01**"
      ],
      "metadata": {
        "id": "htB6NdgWaxjH"
      }
    },
    {
      "cell_type": "code",
      "source": [
        "import numpy as np\n",
        "import pandas as pd\n",
        "dados = {'coluna 01': [1, 2], 'coluna 02': [3, 4]}\n",
        "df = pd.DataFrame(data=dados)"
      ],
      "metadata": {
        "id": "oPcBV7sJamXo"
      },
      "execution_count": 29,
      "outputs": []
    },
    {
      "cell_type": "code",
      "source": [
        "df"
      ],
      "metadata": {
        "colab": {
          "base_uri": "https://localhost:8080/",
          "height": 112
        },
        "id": "6RnS30vBas53",
        "outputId": "e0f33077-cda6-405f-d333-08f7e621abc9"
      },
      "execution_count": 30,
      "outputs": [
        {
          "output_type": "execute_result",
          "data": {
            "text/plain": [
              "   coluna 01  coluna 02\n",
              "0          1          3\n",
              "1          2          4"
            ],
            "text/html": [
              "\n",
              "  <div id=\"df-ee8fe9d4-04a0-496b-8844-17bfd8d35f8e\">\n",
              "    <div class=\"colab-df-container\">\n",
              "      <div>\n",
              "<style scoped>\n",
              "    .dataframe tbody tr th:only-of-type {\n",
              "        vertical-align: middle;\n",
              "    }\n",
              "\n",
              "    .dataframe tbody tr th {\n",
              "        vertical-align: top;\n",
              "    }\n",
              "\n",
              "    .dataframe thead th {\n",
              "        text-align: right;\n",
              "    }\n",
              "</style>\n",
              "<table border=\"1\" class=\"dataframe\">\n",
              "  <thead>\n",
              "    <tr style=\"text-align: right;\">\n",
              "      <th></th>\n",
              "      <th>coluna 01</th>\n",
              "      <th>coluna 02</th>\n",
              "    </tr>\n",
              "  </thead>\n",
              "  <tbody>\n",
              "    <tr>\n",
              "      <th>0</th>\n",
              "      <td>1</td>\n",
              "      <td>3</td>\n",
              "    </tr>\n",
              "    <tr>\n",
              "      <th>1</th>\n",
              "      <td>2</td>\n",
              "      <td>4</td>\n",
              "    </tr>\n",
              "  </tbody>\n",
              "</table>\n",
              "</div>\n",
              "      <button class=\"colab-df-convert\" onclick=\"convertToInteractive('df-ee8fe9d4-04a0-496b-8844-17bfd8d35f8e')\"\n",
              "              title=\"Convert this dataframe to an interactive table.\"\n",
              "              style=\"display:none;\">\n",
              "        \n",
              "  <svg xmlns=\"http://www.w3.org/2000/svg\" height=\"24px\"viewBox=\"0 0 24 24\"\n",
              "       width=\"24px\">\n",
              "    <path d=\"M0 0h24v24H0V0z\" fill=\"none\"/>\n",
              "    <path d=\"M18.56 5.44l.94 2.06.94-2.06 2.06-.94-2.06-.94-.94-2.06-.94 2.06-2.06.94zm-11 1L8.5 8.5l.94-2.06 2.06-.94-2.06-.94L8.5 2.5l-.94 2.06-2.06.94zm10 10l.94 2.06.94-2.06 2.06-.94-2.06-.94-.94-2.06-.94 2.06-2.06.94z\"/><path d=\"M17.41 7.96l-1.37-1.37c-.4-.4-.92-.59-1.43-.59-.52 0-1.04.2-1.43.59L10.3 9.45l-7.72 7.72c-.78.78-.78 2.05 0 2.83L4 21.41c.39.39.9.59 1.41.59.51 0 1.02-.2 1.41-.59l7.78-7.78 2.81-2.81c.8-.78.8-2.07 0-2.86zM5.41 20L4 18.59l7.72-7.72 1.47 1.35L5.41 20z\"/>\n",
              "  </svg>\n",
              "      </button>\n",
              "      \n",
              "  <style>\n",
              "    .colab-df-container {\n",
              "      display:flex;\n",
              "      flex-wrap:wrap;\n",
              "      gap: 12px;\n",
              "    }\n",
              "\n",
              "    .colab-df-convert {\n",
              "      background-color: #E8F0FE;\n",
              "      border: none;\n",
              "      border-radius: 50%;\n",
              "      cursor: pointer;\n",
              "      display: none;\n",
              "      fill: #1967D2;\n",
              "      height: 32px;\n",
              "      padding: 0 0 0 0;\n",
              "      width: 32px;\n",
              "    }\n",
              "\n",
              "    .colab-df-convert:hover {\n",
              "      background-color: #E2EBFA;\n",
              "      box-shadow: 0px 1px 2px rgba(60, 64, 67, 0.3), 0px 1px 3px 1px rgba(60, 64, 67, 0.15);\n",
              "      fill: #174EA6;\n",
              "    }\n",
              "\n",
              "    [theme=dark] .colab-df-convert {\n",
              "      background-color: #3B4455;\n",
              "      fill: #D2E3FC;\n",
              "    }\n",
              "\n",
              "    [theme=dark] .colab-df-convert:hover {\n",
              "      background-color: #434B5C;\n",
              "      box-shadow: 0px 1px 3px 1px rgba(0, 0, 0, 0.15);\n",
              "      filter: drop-shadow(0px 1px 2px rgba(0, 0, 0, 0.3));\n",
              "      fill: #FFFFFF;\n",
              "    }\n",
              "  </style>\n",
              "\n",
              "      <script>\n",
              "        const buttonEl =\n",
              "          document.querySelector('#df-ee8fe9d4-04a0-496b-8844-17bfd8d35f8e button.colab-df-convert');\n",
              "        buttonEl.style.display =\n",
              "          google.colab.kernel.accessAllowed ? 'block' : 'none';\n",
              "\n",
              "        async function convertToInteractive(key) {\n",
              "          const element = document.querySelector('#df-ee8fe9d4-04a0-496b-8844-17bfd8d35f8e');\n",
              "          const dataTable =\n",
              "            await google.colab.kernel.invokeFunction('convertToInteractive',\n",
              "                                                     [key], {});\n",
              "          if (!dataTable) return;\n",
              "\n",
              "          const docLinkHtml = 'Like what you see? Visit the ' +\n",
              "            '<a target=\"_blank\" href=https://colab.research.google.com/notebooks/data_table.ipynb>data table notebook</a>'\n",
              "            + ' to learn more about interactive tables.';\n",
              "          element.innerHTML = '';\n",
              "          dataTable['output_type'] = 'display_data';\n",
              "          await google.colab.output.renderOutput(dataTable, element);\n",
              "          const docLink = document.createElement('div');\n",
              "          docLink.innerHTML = docLinkHtml;\n",
              "          element.appendChild(docLink);\n",
              "        }\n",
              "      </script>\n",
              "    </div>\n",
              "  </div>\n",
              "  "
            ]
          },
          "metadata": {},
          "execution_count": 30
        }
      ]
    },
    {
      "cell_type": "markdown",
      "source": [
        "**exemplo 02**"
      ],
      "metadata": {
        "id": "TbxGa5Cka0JI"
      }
    },
    {
      "cell_type": "code",
      "source": [
        "import pandas as pd\n",
        "dados_2 = {'Produto': ['A', 'B'], 'Valor': [100, 500]}\n",
        "df_2 = pd.DataFrame(data = dados_2)\n",
        "df_2"
      ],
      "metadata": {
        "colab": {
          "base_uri": "https://localhost:8080/",
          "height": 112
        },
        "id": "Px0UWN8Qa1Ou",
        "outputId": "71d034e0-5c6e-4951-edcd-d7bb401025f4"
      },
      "execution_count": 31,
      "outputs": [
        {
          "output_type": "execute_result",
          "data": {
            "text/plain": [
              "  Produto  Valor\n",
              "0       A    100\n",
              "1       B    500"
            ],
            "text/html": [
              "\n",
              "  <div id=\"df-433fc0ac-736c-43c6-8424-6b9be4e83dfa\">\n",
              "    <div class=\"colab-df-container\">\n",
              "      <div>\n",
              "<style scoped>\n",
              "    .dataframe tbody tr th:only-of-type {\n",
              "        vertical-align: middle;\n",
              "    }\n",
              "\n",
              "    .dataframe tbody tr th {\n",
              "        vertical-align: top;\n",
              "    }\n",
              "\n",
              "    .dataframe thead th {\n",
              "        text-align: right;\n",
              "    }\n",
              "</style>\n",
              "<table border=\"1\" class=\"dataframe\">\n",
              "  <thead>\n",
              "    <tr style=\"text-align: right;\">\n",
              "      <th></th>\n",
              "      <th>Produto</th>\n",
              "      <th>Valor</th>\n",
              "    </tr>\n",
              "  </thead>\n",
              "  <tbody>\n",
              "    <tr>\n",
              "      <th>0</th>\n",
              "      <td>A</td>\n",
              "      <td>100</td>\n",
              "    </tr>\n",
              "    <tr>\n",
              "      <th>1</th>\n",
              "      <td>B</td>\n",
              "      <td>500</td>\n",
              "    </tr>\n",
              "  </tbody>\n",
              "</table>\n",
              "</div>\n",
              "      <button class=\"colab-df-convert\" onclick=\"convertToInteractive('df-433fc0ac-736c-43c6-8424-6b9be4e83dfa')\"\n",
              "              title=\"Convert this dataframe to an interactive table.\"\n",
              "              style=\"display:none;\">\n",
              "        \n",
              "  <svg xmlns=\"http://www.w3.org/2000/svg\" height=\"24px\"viewBox=\"0 0 24 24\"\n",
              "       width=\"24px\">\n",
              "    <path d=\"M0 0h24v24H0V0z\" fill=\"none\"/>\n",
              "    <path d=\"M18.56 5.44l.94 2.06.94-2.06 2.06-.94-2.06-.94-.94-2.06-.94 2.06-2.06.94zm-11 1L8.5 8.5l.94-2.06 2.06-.94-2.06-.94L8.5 2.5l-.94 2.06-2.06.94zm10 10l.94 2.06.94-2.06 2.06-.94-2.06-.94-.94-2.06-.94 2.06-2.06.94z\"/><path d=\"M17.41 7.96l-1.37-1.37c-.4-.4-.92-.59-1.43-.59-.52 0-1.04.2-1.43.59L10.3 9.45l-7.72 7.72c-.78.78-.78 2.05 0 2.83L4 21.41c.39.39.9.59 1.41.59.51 0 1.02-.2 1.41-.59l7.78-7.78 2.81-2.81c.8-.78.8-2.07 0-2.86zM5.41 20L4 18.59l7.72-7.72 1.47 1.35L5.41 20z\"/>\n",
              "  </svg>\n",
              "      </button>\n",
              "      \n",
              "  <style>\n",
              "    .colab-df-container {\n",
              "      display:flex;\n",
              "      flex-wrap:wrap;\n",
              "      gap: 12px;\n",
              "    }\n",
              "\n",
              "    .colab-df-convert {\n",
              "      background-color: #E8F0FE;\n",
              "      border: none;\n",
              "      border-radius: 50%;\n",
              "      cursor: pointer;\n",
              "      display: none;\n",
              "      fill: #1967D2;\n",
              "      height: 32px;\n",
              "      padding: 0 0 0 0;\n",
              "      width: 32px;\n",
              "    }\n",
              "\n",
              "    .colab-df-convert:hover {\n",
              "      background-color: #E2EBFA;\n",
              "      box-shadow: 0px 1px 2px rgba(60, 64, 67, 0.3), 0px 1px 3px 1px rgba(60, 64, 67, 0.15);\n",
              "      fill: #174EA6;\n",
              "    }\n",
              "\n",
              "    [theme=dark] .colab-df-convert {\n",
              "      background-color: #3B4455;\n",
              "      fill: #D2E3FC;\n",
              "    }\n",
              "\n",
              "    [theme=dark] .colab-df-convert:hover {\n",
              "      background-color: #434B5C;\n",
              "      box-shadow: 0px 1px 3px 1px rgba(0, 0, 0, 0.15);\n",
              "      filter: drop-shadow(0px 1px 2px rgba(0, 0, 0, 0.3));\n",
              "      fill: #FFFFFF;\n",
              "    }\n",
              "  </style>\n",
              "\n",
              "      <script>\n",
              "        const buttonEl =\n",
              "          document.querySelector('#df-433fc0ac-736c-43c6-8424-6b9be4e83dfa button.colab-df-convert');\n",
              "        buttonEl.style.display =\n",
              "          google.colab.kernel.accessAllowed ? 'block' : 'none';\n",
              "\n",
              "        async function convertToInteractive(key) {\n",
              "          const element = document.querySelector('#df-433fc0ac-736c-43c6-8424-6b9be4e83dfa');\n",
              "          const dataTable =\n",
              "            await google.colab.kernel.invokeFunction('convertToInteractive',\n",
              "                                                     [key], {});\n",
              "          if (!dataTable) return;\n",
              "\n",
              "          const docLinkHtml = 'Like what you see? Visit the ' +\n",
              "            '<a target=\"_blank\" href=https://colab.research.google.com/notebooks/data_table.ipynb>data table notebook</a>'\n",
              "            + ' to learn more about interactive tables.';\n",
              "          element.innerHTML = '';\n",
              "          dataTable['output_type'] = 'display_data';\n",
              "          await google.colab.output.renderOutput(dataTable, element);\n",
              "          const docLink = document.createElement('div');\n",
              "          docLink.innerHTML = docLinkHtml;\n",
              "          element.appendChild(docLink);\n",
              "        }\n",
              "      </script>\n",
              "    </div>\n",
              "  </div>\n",
              "  "
            ]
          },
          "metadata": {},
          "execution_count": 31
        }
      ]
    },
    {
      "cell_type": "markdown",
      "source": [
        "**exemplo 03**"
      ],
      "metadata": {
        "id": "2nRt7T1oa6T1"
      }
    },
    {
      "cell_type": "code",
      "source": [
        "#Adicionar nova coluna\n",
        "df_2['Estoque'] = [200, 707]\n",
        "df_2"
      ],
      "metadata": {
        "colab": {
          "base_uri": "https://localhost:8080/",
          "height": 112
        },
        "id": "dYfk0jXZa7rt",
        "outputId": "de25e1ad-dceb-4890-9696-ea407446956f"
      },
      "execution_count": 32,
      "outputs": [
        {
          "output_type": "execute_result",
          "data": {
            "text/plain": [
              "  Produto  Valor  Estoque\n",
              "0       A    100      200\n",
              "1       B    500      707"
            ],
            "text/html": [
              "\n",
              "  <div id=\"df-fae93489-af51-4cd8-ab4c-eb34c7f62a35\">\n",
              "    <div class=\"colab-df-container\">\n",
              "      <div>\n",
              "<style scoped>\n",
              "    .dataframe tbody tr th:only-of-type {\n",
              "        vertical-align: middle;\n",
              "    }\n",
              "\n",
              "    .dataframe tbody tr th {\n",
              "        vertical-align: top;\n",
              "    }\n",
              "\n",
              "    .dataframe thead th {\n",
              "        text-align: right;\n",
              "    }\n",
              "</style>\n",
              "<table border=\"1\" class=\"dataframe\">\n",
              "  <thead>\n",
              "    <tr style=\"text-align: right;\">\n",
              "      <th></th>\n",
              "      <th>Produto</th>\n",
              "      <th>Valor</th>\n",
              "      <th>Estoque</th>\n",
              "    </tr>\n",
              "  </thead>\n",
              "  <tbody>\n",
              "    <tr>\n",
              "      <th>0</th>\n",
              "      <td>A</td>\n",
              "      <td>100</td>\n",
              "      <td>200</td>\n",
              "    </tr>\n",
              "    <tr>\n",
              "      <th>1</th>\n",
              "      <td>B</td>\n",
              "      <td>500</td>\n",
              "      <td>707</td>\n",
              "    </tr>\n",
              "  </tbody>\n",
              "</table>\n",
              "</div>\n",
              "      <button class=\"colab-df-convert\" onclick=\"convertToInteractive('df-fae93489-af51-4cd8-ab4c-eb34c7f62a35')\"\n",
              "              title=\"Convert this dataframe to an interactive table.\"\n",
              "              style=\"display:none;\">\n",
              "        \n",
              "  <svg xmlns=\"http://www.w3.org/2000/svg\" height=\"24px\"viewBox=\"0 0 24 24\"\n",
              "       width=\"24px\">\n",
              "    <path d=\"M0 0h24v24H0V0z\" fill=\"none\"/>\n",
              "    <path d=\"M18.56 5.44l.94 2.06.94-2.06 2.06-.94-2.06-.94-.94-2.06-.94 2.06-2.06.94zm-11 1L8.5 8.5l.94-2.06 2.06-.94-2.06-.94L8.5 2.5l-.94 2.06-2.06.94zm10 10l.94 2.06.94-2.06 2.06-.94-2.06-.94-.94-2.06-.94 2.06-2.06.94z\"/><path d=\"M17.41 7.96l-1.37-1.37c-.4-.4-.92-.59-1.43-.59-.52 0-1.04.2-1.43.59L10.3 9.45l-7.72 7.72c-.78.78-.78 2.05 0 2.83L4 21.41c.39.39.9.59 1.41.59.51 0 1.02-.2 1.41-.59l7.78-7.78 2.81-2.81c.8-.78.8-2.07 0-2.86zM5.41 20L4 18.59l7.72-7.72 1.47 1.35L5.41 20z\"/>\n",
              "  </svg>\n",
              "      </button>\n",
              "      \n",
              "  <style>\n",
              "    .colab-df-container {\n",
              "      display:flex;\n",
              "      flex-wrap:wrap;\n",
              "      gap: 12px;\n",
              "    }\n",
              "\n",
              "    .colab-df-convert {\n",
              "      background-color: #E8F0FE;\n",
              "      border: none;\n",
              "      border-radius: 50%;\n",
              "      cursor: pointer;\n",
              "      display: none;\n",
              "      fill: #1967D2;\n",
              "      height: 32px;\n",
              "      padding: 0 0 0 0;\n",
              "      width: 32px;\n",
              "    }\n",
              "\n",
              "    .colab-df-convert:hover {\n",
              "      background-color: #E2EBFA;\n",
              "      box-shadow: 0px 1px 2px rgba(60, 64, 67, 0.3), 0px 1px 3px 1px rgba(60, 64, 67, 0.15);\n",
              "      fill: #174EA6;\n",
              "    }\n",
              "\n",
              "    [theme=dark] .colab-df-convert {\n",
              "      background-color: #3B4455;\n",
              "      fill: #D2E3FC;\n",
              "    }\n",
              "\n",
              "    [theme=dark] .colab-df-convert:hover {\n",
              "      background-color: #434B5C;\n",
              "      box-shadow: 0px 1px 3px 1px rgba(0, 0, 0, 0.15);\n",
              "      filter: drop-shadow(0px 1px 2px rgba(0, 0, 0, 0.3));\n",
              "      fill: #FFFFFF;\n",
              "    }\n",
              "  </style>\n",
              "\n",
              "      <script>\n",
              "        const buttonEl =\n",
              "          document.querySelector('#df-fae93489-af51-4cd8-ab4c-eb34c7f62a35 button.colab-df-convert');\n",
              "        buttonEl.style.display =\n",
              "          google.colab.kernel.accessAllowed ? 'block' : 'none';\n",
              "\n",
              "        async function convertToInteractive(key) {\n",
              "          const element = document.querySelector('#df-fae93489-af51-4cd8-ab4c-eb34c7f62a35');\n",
              "          const dataTable =\n",
              "            await google.colab.kernel.invokeFunction('convertToInteractive',\n",
              "                                                     [key], {});\n",
              "          if (!dataTable) return;\n",
              "\n",
              "          const docLinkHtml = 'Like what you see? Visit the ' +\n",
              "            '<a target=\"_blank\" href=https://colab.research.google.com/notebooks/data_table.ipynb>data table notebook</a>'\n",
              "            + ' to learn more about interactive tables.';\n",
              "          element.innerHTML = '';\n",
              "          dataTable['output_type'] = 'display_data';\n",
              "          await google.colab.output.renderOutput(dataTable, element);\n",
              "          const docLink = document.createElement('div');\n",
              "          docLink.innerHTML = docLinkHtml;\n",
              "          element.appendChild(docLink);\n",
              "        }\n",
              "      </script>\n",
              "    </div>\n",
              "  </div>\n",
              "  "
            ]
          },
          "metadata": {},
          "execution_count": 32
        }
      ]
    },
    {
      "cell_type": "markdown",
      "source": [
        "**exemplo 04**"
      ],
      "metadata": {
        "id": "PkiE5wRya-ut"
      }
    },
    {
      "cell_type": "code",
      "source": [
        "#Outra forma de adicionar uma coluna\n",
        "df_2.insert(loc=3, column=\"Categoria\", value =['Suco', 'Cereal'])\n",
        "df_2"
      ],
      "metadata": {
        "colab": {
          "base_uri": "https://localhost:8080/",
          "height": 112
        },
        "id": "v4wmWPyUa_8M",
        "outputId": "4ebcb3b5-f9e3-4ebf-8dad-10de65f0abe3"
      },
      "execution_count": 33,
      "outputs": [
        {
          "output_type": "execute_result",
          "data": {
            "text/plain": [
              "  Produto  Valor  Estoque Categoria\n",
              "0       A    100      200      Suco\n",
              "1       B    500      707    Cereal"
            ],
            "text/html": [
              "\n",
              "  <div id=\"df-a344dc54-dea0-44f8-a21c-cbcedc03bd60\">\n",
              "    <div class=\"colab-df-container\">\n",
              "      <div>\n",
              "<style scoped>\n",
              "    .dataframe tbody tr th:only-of-type {\n",
              "        vertical-align: middle;\n",
              "    }\n",
              "\n",
              "    .dataframe tbody tr th {\n",
              "        vertical-align: top;\n",
              "    }\n",
              "\n",
              "    .dataframe thead th {\n",
              "        text-align: right;\n",
              "    }\n",
              "</style>\n",
              "<table border=\"1\" class=\"dataframe\">\n",
              "  <thead>\n",
              "    <tr style=\"text-align: right;\">\n",
              "      <th></th>\n",
              "      <th>Produto</th>\n",
              "      <th>Valor</th>\n",
              "      <th>Estoque</th>\n",
              "      <th>Categoria</th>\n",
              "    </tr>\n",
              "  </thead>\n",
              "  <tbody>\n",
              "    <tr>\n",
              "      <th>0</th>\n",
              "      <td>A</td>\n",
              "      <td>100</td>\n",
              "      <td>200</td>\n",
              "      <td>Suco</td>\n",
              "    </tr>\n",
              "    <tr>\n",
              "      <th>1</th>\n",
              "      <td>B</td>\n",
              "      <td>500</td>\n",
              "      <td>707</td>\n",
              "      <td>Cereal</td>\n",
              "    </tr>\n",
              "  </tbody>\n",
              "</table>\n",
              "</div>\n",
              "      <button class=\"colab-df-convert\" onclick=\"convertToInteractive('df-a344dc54-dea0-44f8-a21c-cbcedc03bd60')\"\n",
              "              title=\"Convert this dataframe to an interactive table.\"\n",
              "              style=\"display:none;\">\n",
              "        \n",
              "  <svg xmlns=\"http://www.w3.org/2000/svg\" height=\"24px\"viewBox=\"0 0 24 24\"\n",
              "       width=\"24px\">\n",
              "    <path d=\"M0 0h24v24H0V0z\" fill=\"none\"/>\n",
              "    <path d=\"M18.56 5.44l.94 2.06.94-2.06 2.06-.94-2.06-.94-.94-2.06-.94 2.06-2.06.94zm-11 1L8.5 8.5l.94-2.06 2.06-.94-2.06-.94L8.5 2.5l-.94 2.06-2.06.94zm10 10l.94 2.06.94-2.06 2.06-.94-2.06-.94-.94-2.06-.94 2.06-2.06.94z\"/><path d=\"M17.41 7.96l-1.37-1.37c-.4-.4-.92-.59-1.43-.59-.52 0-1.04.2-1.43.59L10.3 9.45l-7.72 7.72c-.78.78-.78 2.05 0 2.83L4 21.41c.39.39.9.59 1.41.59.51 0 1.02-.2 1.41-.59l7.78-7.78 2.81-2.81c.8-.78.8-2.07 0-2.86zM5.41 20L4 18.59l7.72-7.72 1.47 1.35L5.41 20z\"/>\n",
              "  </svg>\n",
              "      </button>\n",
              "      \n",
              "  <style>\n",
              "    .colab-df-container {\n",
              "      display:flex;\n",
              "      flex-wrap:wrap;\n",
              "      gap: 12px;\n",
              "    }\n",
              "\n",
              "    .colab-df-convert {\n",
              "      background-color: #E8F0FE;\n",
              "      border: none;\n",
              "      border-radius: 50%;\n",
              "      cursor: pointer;\n",
              "      display: none;\n",
              "      fill: #1967D2;\n",
              "      height: 32px;\n",
              "      padding: 0 0 0 0;\n",
              "      width: 32px;\n",
              "    }\n",
              "\n",
              "    .colab-df-convert:hover {\n",
              "      background-color: #E2EBFA;\n",
              "      box-shadow: 0px 1px 2px rgba(60, 64, 67, 0.3), 0px 1px 3px 1px rgba(60, 64, 67, 0.15);\n",
              "      fill: #174EA6;\n",
              "    }\n",
              "\n",
              "    [theme=dark] .colab-df-convert {\n",
              "      background-color: #3B4455;\n",
              "      fill: #D2E3FC;\n",
              "    }\n",
              "\n",
              "    [theme=dark] .colab-df-convert:hover {\n",
              "      background-color: #434B5C;\n",
              "      box-shadow: 0px 1px 3px 1px rgba(0, 0, 0, 0.15);\n",
              "      filter: drop-shadow(0px 1px 2px rgba(0, 0, 0, 0.3));\n",
              "      fill: #FFFFFF;\n",
              "    }\n",
              "  </style>\n",
              "\n",
              "      <script>\n",
              "        const buttonEl =\n",
              "          document.querySelector('#df-a344dc54-dea0-44f8-a21c-cbcedc03bd60 button.colab-df-convert');\n",
              "        buttonEl.style.display =\n",
              "          google.colab.kernel.accessAllowed ? 'block' : 'none';\n",
              "\n",
              "        async function convertToInteractive(key) {\n",
              "          const element = document.querySelector('#df-a344dc54-dea0-44f8-a21c-cbcedc03bd60');\n",
              "          const dataTable =\n",
              "            await google.colab.kernel.invokeFunction('convertToInteractive',\n",
              "                                                     [key], {});\n",
              "          if (!dataTable) return;\n",
              "\n",
              "          const docLinkHtml = 'Like what you see? Visit the ' +\n",
              "            '<a target=\"_blank\" href=https://colab.research.google.com/notebooks/data_table.ipynb>data table notebook</a>'\n",
              "            + ' to learn more about interactive tables.';\n",
              "          element.innerHTML = '';\n",
              "          dataTable['output_type'] = 'display_data';\n",
              "          await google.colab.output.renderOutput(dataTable, element);\n",
              "          const docLink = document.createElement('div');\n",
              "          docLink.innerHTML = docLinkHtml;\n",
              "          element.appendChild(docLink);\n",
              "        }\n",
              "      </script>\n",
              "    </div>\n",
              "  </div>\n",
              "  "
            ]
          },
          "metadata": {},
          "execution_count": 33
        }
      ]
    },
    {
      "cell_type": "markdown",
      "source": [
        "# **Funcoes**"
      ],
      "metadata": {
        "id": "SHwVUTlQbkAt"
      }
    },
    {
      "cell_type": "markdown",
      "source": [
        "**Exemplo 01: Somar todos os elementos de uma lista.**"
      ],
      "metadata": {
        "id": "2zl4626Gbom8"
      }
    },
    {
      "cell_type": "code",
      "source": [
        "def somatorio(lista):\n",
        "  soma=0\n",
        "  for elem in lista:\n",
        "    soma = soma + elem\n",
        "  return soma"
      ],
      "metadata": {
        "id": "pTWrwNbMblo1"
      },
      "execution_count": 36,
      "outputs": []
    },
    {
      "cell_type": "code",
      "source": [
        "lista_teste = [1,10,2,5,2,5]\n",
        "resultado = somatorio(lista_teste)\n",
        "print(\"O somatorio dos elementos da lista é:[{}]\".format(resultado))"
      ],
      "metadata": {
        "colab": {
          "base_uri": "https://localhost:8080/"
        },
        "id": "6eZECdN4cL0e",
        "outputId": "73481fab-67e3-4f99-b5c2-6e4388c8919d"
      },
      "execution_count": 37,
      "outputs": [
        {
          "output_type": "stream",
          "name": "stdout",
          "text": [
            "O somatorio dos elementos da lista é:[25]\n"
          ]
        }
      ]
    },
    {
      "cell_type": "markdown",
      "source": [
        "**Exemplo 02: Encontrar o menor elemento de uma lista.**"
      ],
      "metadata": {
        "id": "fbwDLbQ1buFz"
      }
    },
    {
      "cell_type": "code",
      "source": [
        "def obter_minimo(lista):\n",
        "  minimo = lista[0]\n",
        "  for elem in lista:\n",
        "    if(elem < minimo):\n",
        "      minimo = elem\n",
        "  return minimo"
      ],
      "metadata": {
        "id": "Ys4vnMbqb4Cq"
      },
      "execution_count": 34,
      "outputs": []
    },
    {
      "cell_type": "code",
      "source": [
        "lista_teste = [2,10,3,7,-5,1,4,5]\n",
        "menor = obter_minimo(lista_teste)\n",
        "print(\"O menor elemento da lista é:[{}]\".format(menor))"
      ],
      "metadata": {
        "colab": {
          "base_uri": "https://localhost:8080/"
        },
        "id": "O3owzVC1b7yR",
        "outputId": "8f2b7160-93c0-46a4-a8e3-5eb1b7e5a680"
      },
      "execution_count": 35,
      "outputs": [
        {
          "output_type": "stream",
          "name": "stdout",
          "text": [
            "O menor elemento da lista é:[-5]\n"
          ]
        }
      ]
    },
    {
      "cell_type": "markdown",
      "source": [
        "**Exemplo 03: encontrar o maior valor entre três números**"
      ],
      "metadata": {
        "id": "g1t7Z25Edk3W"
      }
    },
    {
      "cell_type": "code",
      "source": [
        "funcao_maior = lambda x,y: x if(x>y) else y"
      ],
      "metadata": {
        "id": "_PJTcSsfd3V6"
      },
      "execution_count": 41,
      "outputs": []
    },
    {
      "cell_type": "code",
      "source": [
        "num1 = 10\n",
        "num2 = 30\n",
        "num3 = 20"
      ],
      "metadata": {
        "id": "pxR51whzdxkz"
      },
      "execution_count": 44,
      "outputs": []
    },
    {
      "cell_type": "code",
      "source": [
        "maior01 = funcao_maior(num1,num2)\n",
        "maior = funcao_maior(maior01,num3)\n",
        "print(f'O maior valor entre {num1}, {num2} e {num3} eh: {maior}')"
      ],
      "metadata": {
        "colab": {
          "base_uri": "https://localhost:8080/"
        },
        "id": "TRuEazGWeIyn",
        "outputId": "5b2540cb-69a4-4dd9-90b2-26cf63897b96"
      },
      "execution_count": 45,
      "outputs": [
        {
          "output_type": "stream",
          "name": "stdout",
          "text": [
            "O maior valor entre 10, 30 e 20 eh: 30\n"
          ]
        }
      ]
    },
    {
      "cell_type": "markdown",
      "source": [
        "**Exemplo 04: encontrar o vendedor com melhor desempenho**"
      ],
      "metadata": {
        "id": "N7gmE4eDc8_l"
      }
    },
    {
      "cell_type": "code",
      "source": [
        "lista = [('vendedor 01', 100), ('vendedor 02', 700),('vendedor 03', 200)]"
      ],
      "metadata": {
        "id": "MzXmgSpbdJNr"
      },
      "execution_count": 38,
      "outputs": []
    },
    {
      "cell_type": "code",
      "source": [
        "#Função Lambda\n",
        "maior = max(lista,key=lambda item:item[1])[0]    "
      ],
      "metadata": {
        "id": "5_-UhC6edUAp"
      },
      "execution_count": 39,
      "outputs": []
    },
    {
      "cell_type": "code",
      "source": [
        "maior"
      ],
      "metadata": {
        "colab": {
          "base_uri": "https://localhost:8080/",
          "height": 35
        },
        "id": "nK7nTHRAdWIB",
        "outputId": "29958c3d-a659-4e97-8ba4-81697e71a295"
      },
      "execution_count": 40,
      "outputs": [
        {
          "output_type": "execute_result",
          "data": {
            "text/plain": [
              "'vendedor 02'"
            ],
            "application/vnd.google.colaboratory.intrinsic+json": {
              "type": "string"
            }
          },
          "metadata": {},
          "execution_count": 40
        }
      ]
    }
  ]
}