{
  "nbformat": 4,
  "nbformat_minor": 0,
  "metadata": {
    "colab": {
      "provenance": [],
      "collapsed_sections": [
        "6kq9rNzhWBHG",
        "zEtp03VbYl8Q",
        "sdghJMr8ZXMf",
        "MMf0hc6ZakVJ"
      ]
    },
    "kernelspec": {
      "name": "python3",
      "display_name": "Python 3"
    },
    "language_info": {
      "name": "python"
    }
  },
  "cells": [
    {
      "cell_type": "markdown",
      "source": [
        "# **Introducao ao Python**\n",
        "\n",
        "**prof: Sergio Assuncao Monteiro, DSc**\n",
        "\n",
        "linkedin: https://www.linkedin.com/in/sergio-assun%C3%A7%C3%A3o-monteiro-b781897b/\n",
        "\n",
        "lattes: http://lattes.cnpq.br/9489191035734025"
      ],
      "metadata": {
        "id": "Gv1NXruMUMEl"
      }
    },
    {
      "cell_type": "markdown",
      "source": [
        "# **Entrada e Saida de Dados**"
      ],
      "metadata": {
        "id": "1_BoLr93VB_B"
      }
    },
    {
      "cell_type": "code",
      "execution_count": 46,
      "metadata": {
        "colab": {
          "base_uri": "https://localhost:8080/"
        },
        "id": "pue8bR-PUHOc",
        "outputId": "4455ce1e-8705-462b-c4e1-86c4bf656294"
      },
      "outputs": [
        {
          "output_type": "stream",
          "name": "stdout",
          "text": [
            "Olah, Mundo!\n"
          ]
        }
      ],
      "source": [
        "print(\"Olah, Mundo!\")"
      ]
    },
    {
      "cell_type": "code",
      "source": [
        "print(12345)"
      ],
      "metadata": {
        "colab": {
          "base_uri": "https://localhost:8080/"
        },
        "id": "Tfa7T7ciVSCn",
        "outputId": "b9c9304d-fb8d-4847-9f24-9f2d57740496"
      },
      "execution_count": 47,
      "outputs": [
        {
          "output_type": "stream",
          "name": "stdout",
          "text": [
            "12345\n"
          ]
        }
      ]
    },
    {
      "cell_type": "code",
      "source": [
        "#Aspas simples\n",
        "print('valor',12345)\n",
        "print('valor = {}'.format(12345))\n",
        "print(f'valor = {12345}')"
      ],
      "metadata": {
        "colab": {
          "base_uri": "https://localhost:8080/"
        },
        "id": "YSSjXbEAVJPY",
        "outputId": "78986d52-1537-436b-8e13-594fe5c5be77"
      },
      "execution_count": 48,
      "outputs": [
        {
          "output_type": "stream",
          "name": "stdout",
          "text": [
            "valor 12345\n",
            "valor = 12345\n",
            "valor = 12345\n"
          ]
        }
      ]
    },
    {
      "cell_type": "code",
      "source": [
        "#Aspas duplas\n",
        "print(\"valor\",12345)\n",
        "print(\"valor = {}\".format(12345))\n",
        "print(f\"valor = {12345}\")"
      ],
      "metadata": {
        "colab": {
          "base_uri": "https://localhost:8080/"
        },
        "id": "tH4T3n1zVPWH",
        "outputId": "c0ea2cf2-652a-4739-b623-03f5921b0c1d"
      },
      "execution_count": 49,
      "outputs": [
        {
          "output_type": "stream",
          "name": "stdout",
          "text": [
            "valor 12345\n",
            "valor = 12345\n",
            "valor = 12345\n"
          ]
        }
      ]
    },
    {
      "cell_type": "code",
      "source": [
        "#Variavel string\n",
        "var_string = 'exemplo de string em Python'\n",
        "print(var_string)\n",
        "print('valor da variavel nome = {}'.format(var_string))\n",
        "print(f'valor da variavel nome = {var_string}')\n",
        "print(f\"valor da variavel nome = {var_string}\")"
      ],
      "metadata": {
        "colab": {
          "base_uri": "https://localhost:8080/"
        },
        "id": "igii6gMDVXsu",
        "outputId": "8b4befa9-e0ee-45a0-80af-69f0bab531e1"
      },
      "execution_count": 50,
      "outputs": [
        {
          "output_type": "stream",
          "name": "stdout",
          "text": [
            "exemplo de string em Python\n",
            "valor da variavel nome = exemplo de string em Python\n",
            "valor da variavel nome = exemplo de string em Python\n",
            "valor da variavel nome = exemplo de string em Python\n"
          ]
        }
      ]
    },
    {
      "cell_type": "code",
      "source": [
        "#Variavel numerica\n",
        "var_numero = 11062022\n",
        "print(var_numero)\n",
        "print('valor da variavel numero = {}'.format(var_numero))\n",
        "print(f'valor da variavel numero = {var_numero}')"
      ],
      "metadata": {
        "colab": {
          "base_uri": "https://localhost:8080/"
        },
        "id": "91lfH33aVhj0",
        "outputId": "599d913b-a394-4855-c815-317049bf4732"
      },
      "execution_count": 51,
      "outputs": [
        {
          "output_type": "stream",
          "name": "stdout",
          "text": [
            "11062022\n",
            "valor da variável numero = 11062022\n",
            "valor da variável numero = 11062022\n"
          ]
        }
      ]
    },
    {
      "cell_type": "code",
      "source": [
        "#Entrada de dados\n",
        "valor = int(input(\"Entre com um numero: \"))"
      ],
      "metadata": {
        "colab": {
          "base_uri": "https://localhost:8080/"
        },
        "id": "fV_ILme3Vm5L",
        "outputId": "77ae7216-acd8-4f16-fce9-dd95ae5ea9e9"
      },
      "execution_count": 52,
      "outputs": [
        {
          "name": "stdout",
          "output_type": "stream",
          "text": [
            "Entre com um numero: 130\n"
          ]
        }
      ]
    },
    {
      "cell_type": "markdown",
      "source": [
        "# **Comandos Condicionais**"
      ],
      "metadata": {
        "id": "MiqLX9nGV-j_"
      }
    },
    {
      "cell_type": "markdown",
      "source": [
        "**Verificar se um número é divisível por 10.**"
      ],
      "metadata": {
        "id": "Jo9yzTNWW7ss"
      }
    },
    {
      "cell_type": "code",
      "source": [
        "a = int(input(\"Digite um numero: \"))\n",
        "if a % 10==0:\n",
        "  print(f'O numero {a} eh divisivel por 10.')\n",
        "else:\n",
        "  print(f'O numero {a} NAO eh divisivel por 10.')"
      ],
      "metadata": {
        "colab": {
          "base_uri": "https://localhost:8080/"
        },
        "id": "9MzclxAjWAu_",
        "outputId": "278234c4-73d6-4c64-e1f2-36d6dd9281ed"
      },
      "execution_count": 53,
      "outputs": [
        {
          "output_type": "stream",
          "name": "stdout",
          "text": [
            "Digite um numero: 587\n",
            "O numero 587 NAO eh divisivel por 10.\n"
          ]
        }
      ]
    },
    {
      "cell_type": "markdown",
      "source": [
        "**Exemplo: Dados dois numeros, encontrar o maior deles.**"
      ],
      "metadata": {
        "id": "ifqRG28BXYyX"
      }
    },
    {
      "cell_type": "code",
      "source": [
        "#Estrategia 01\n",
        "a = int(input(\"Digite um numero: \"))\n",
        "b = int(input(\"Digite um numero: \"))\n",
        "if(a > b):\n",
        "  maior = a\n",
        "else:\n",
        "  maior = b\n",
        "print(f'O maior numero eh: {maior}')"
      ],
      "metadata": {
        "colab": {
          "base_uri": "https://localhost:8080/"
        },
        "id": "7TeYkkknW25k",
        "outputId": "e4e7e408-7f6c-4e45-ddce-7570bfcbc59d"
      },
      "execution_count": 54,
      "outputs": [
        {
          "output_type": "stream",
          "name": "stdout",
          "text": [
            "Digite um numero: 682\n",
            "Digite um numero: 596\n",
            "O maior numero eh: 682\n"
          ]
        }
      ]
    },
    {
      "cell_type": "code",
      "source": [
        "#Estrategia 02\n",
        "a = int(input(\"Digite um numero: \"))\n",
        "b = int(input(\"Digite um numero: \"))\n",
        "maior = a\n",
        "if(b>maior):\n",
        "  maior = b\n",
        "print(f'O maior numero eh: {maior}')"
      ],
      "metadata": {
        "colab": {
          "base_uri": "https://localhost:8080/"
        },
        "id": "vH8LFOKaYIne",
        "outputId": "fc337bd9-d38a-4dad-bbf4-5d2ae27cb74f"
      },
      "execution_count": 55,
      "outputs": [
        {
          "output_type": "stream",
          "name": "stdout",
          "text": [
            "Digite um numero: 632\n",
            "Digite um numero: 783\n",
            "O maior numero eh: 783\n"
          ]
        }
      ]
    },
    {
      "cell_type": "markdown",
      "source": [
        "# **Comandos Iterativos**"
      ],
      "metadata": {
        "id": "6kq9rNzhWBHG"
      }
    },
    {
      "cell_type": "code",
      "source": [
        "contador=0\n",
        "s = ''\n",
        "while (contador < 10):\n",
        "  s = s + str(contador)+ ' '\n",
        "  contador = contador + 1\n",
        "print(s)"
      ],
      "metadata": {
        "colab": {
          "base_uri": "https://localhost:8080/"
        },
        "id": "s9skhOlRYZ_7",
        "outputId": "196a8a3a-1f9e-48b8-c175-53759d0036b2"
      },
      "execution_count": 56,
      "outputs": [
        {
          "output_type": "stream",
          "name": "stdout",
          "text": [
            "0 1 2 3 4 5 6 7 8 9 \n"
          ]
        }
      ]
    },
    {
      "cell_type": "code",
      "source": [
        "s = ''\n",
        "for contador in range(10):\n",
        "  s = s + str(contador)+ ' '  \n",
        "print(s)"
      ],
      "metadata": {
        "colab": {
          "base_uri": "https://localhost:8080/"
        },
        "id": "aIiVxtdEYa3a",
        "outputId": "1366d66a-bec3-4e76-fef6-e05ba32cf9eb"
      },
      "execution_count": 57,
      "outputs": [
        {
          "output_type": "stream",
          "name": "stdout",
          "text": [
            "0 1 2 3 4 5 6 7 8 9 \n"
          ]
        }
      ]
    },
    {
      "cell_type": "markdown",
      "source": [
        "# **Listas**"
      ],
      "metadata": {
        "id": "zEtp03VbYl8Q"
      }
    },
    {
      "cell_type": "code",
      "source": [
        "lista = [101,202,303,404,505]\n",
        "print(lista)"
      ],
      "metadata": {
        "colab": {
          "base_uri": "https://localhost:8080/"
        },
        "id": "Jvjpy7vCYpbB",
        "outputId": "e1afa1cb-e083-4da8-c33d-a19772f42914"
      },
      "execution_count": 58,
      "outputs": [
        {
          "output_type": "stream",
          "name": "stdout",
          "text": [
            "[101, 202, 303, 404, 505]\n"
          ]
        }
      ]
    },
    {
      "cell_type": "code",
      "source": [
        "print(f'lista[0] = {lista[0]} e lista[3] = {lista[3]}')"
      ],
      "metadata": {
        "colab": {
          "base_uri": "https://localhost:8080/"
        },
        "id": "BjKGbRLCYr4P",
        "outputId": "d3541fcf-ca45-4b1b-9f5d-a2168afc0926"
      },
      "execution_count": 59,
      "outputs": [
        {
          "output_type": "stream",
          "name": "stdout",
          "text": [
            "lista[0] = 101 e lista[3] = 404\n"
          ]
        }
      ]
    },
    {
      "cell_type": "code",
      "source": [
        "#indexacao explicita da lista\n",
        "n = len(lista)\n",
        "s = ''\n",
        "for i in range(n):\n",
        "  s = s + str(lista[i])+ ' '\n",
        "print(s)"
      ],
      "metadata": {
        "colab": {
          "base_uri": "https://localhost:8080/"
        },
        "id": "yMowqYD1YxZW",
        "outputId": "14dfbc3a-45e8-40ae-f2d7-cd105b6c6c02"
      },
      "execution_count": 60,
      "outputs": [
        {
          "output_type": "stream",
          "name": "stdout",
          "text": [
            "101 202 303 404 505 \n"
          ]
        }
      ]
    },
    {
      "cell_type": "code",
      "source": [
        "#paradigma funcional\n",
        "s = ''\n",
        "for a in lista:\n",
        "  s = s + str(a)+ ' '\n",
        "print(s)"
      ],
      "metadata": {
        "colab": {
          "base_uri": "https://localhost:8080/"
        },
        "id": "0tFPxQp3Yzmd",
        "outputId": "ab8b860c-8351-466e-b3da-d8458bc61e0c"
      },
      "execution_count": 61,
      "outputs": [
        {
          "output_type": "stream",
          "name": "stdout",
          "text": [
            "101 202 303 404 505 \n"
          ]
        }
      ]
    },
    {
      "cell_type": "markdown",
      "source": [
        "# **Vetores**"
      ],
      "metadata": {
        "id": "sdghJMr8ZXMf"
      }
    },
    {
      "cell_type": "code",
      "source": [
        "import numpy as np\n",
        "vetor_teste = np.array([1,2,3,4,5])\n",
        "print(\"vetor:{}\".format(vetor_teste))"
      ],
      "metadata": {
        "colab": {
          "base_uri": "https://localhost:8080/"
        },
        "id": "mdX8ownJZbv2",
        "outputId": "140593d8-ba52-4a4f-d110-f9580628ee04"
      },
      "execution_count": 62,
      "outputs": [
        {
          "output_type": "stream",
          "name": "stdout",
          "text": [
            "vetor:[1 2 3 4 5]\n"
          ]
        }
      ]
    },
    {
      "cell_type": "code",
      "source": [
        "import numpy as np\n",
        "vetor = np.array([5,21,33,54,85])\n",
        "posicao = 3\n",
        "print(\"vetor[{}]={}\".format(posicao,vetor[posicao]))"
      ],
      "metadata": {
        "colab": {
          "base_uri": "https://localhost:8080/"
        },
        "id": "t2WJ9NuGZfsG",
        "outputId": "0d5d1f4f-edc8-4130-8295-08196e7cf7e4"
      },
      "execution_count": 63,
      "outputs": [
        {
          "output_type": "stream",
          "name": "stdout",
          "text": [
            "vetor[3]=54\n"
          ]
        }
      ]
    },
    {
      "cell_type": "code",
      "source": [
        "import numpy as np\n",
        "vetor1 = np.array([5,21,33,54,85])\n",
        "vetor2 = np.array([6,7,8,9,10])\n",
        "vetor3 = vetor1 + vetor2\n",
        "print(\"soma dos vetores:{}\".format(vetor3))"
      ],
      "metadata": {
        "colab": {
          "base_uri": "https://localhost:8080/"
        },
        "id": "7pj5u0bVZi39",
        "outputId": "736eb5b7-6363-4a33-dbd2-9db256461140"
      },
      "execution_count": 64,
      "outputs": [
        {
          "output_type": "stream",
          "name": "stdout",
          "text": [
            "soma dos vetores:[11 28 41 63 95]\n"
          ]
        }
      ]
    },
    {
      "cell_type": "code",
      "source": [
        "vetor = np.array([5,21,33,6,7,8,9,10,54,85])\n",
        "print(f'Tipo: {type(vetor)}')\n",
        "print(f'Dimensoes: {vetor.ndim}')\n",
        "print(f'Tamanho das dimensoes: {vetor.shape}')\n",
        "print(f'Total de elementos: {vetor.size}')\n",
        "print(f'posicao 1 = {vetor[0]}')\n",
        "print(f'posicao 5 = {vetor[4]}')"
      ],
      "metadata": {
        "colab": {
          "base_uri": "https://localhost:8080/"
        },
        "id": "UIPhY7aVZlnt",
        "outputId": "a5eddc51-c103-4713-ad14-4624c2d589f0"
      },
      "execution_count": 65,
      "outputs": [
        {
          "output_type": "stream",
          "name": "stdout",
          "text": [
            "Tipo: <class 'numpy.ndarray'>\n",
            "Dimensoes: 1\n",
            "Tamanho das dimensoes: (10,)\n",
            "Total de elementos: 10\n",
            "posicao 1 = 5\n",
            "posicao 5 = 7\n"
          ]
        }
      ]
    },
    {
      "cell_type": "markdown",
      "source": [
        "# **Dataframe**"
      ],
      "metadata": {
        "id": "MMf0hc6ZakVJ"
      }
    },
    {
      "cell_type": "markdown",
      "source": [
        "**exemplo 01**"
      ],
      "metadata": {
        "id": "htB6NdgWaxjH"
      }
    },
    {
      "cell_type": "code",
      "source": [
        "import numpy as np\n",
        "import pandas as pd\n",
        "dados = {'coluna 01': [1, 2], 'coluna 02': [3, 4]}\n",
        "df = pd.DataFrame(data=dados)"
      ],
      "metadata": {
        "id": "oPcBV7sJamXo"
      },
      "execution_count": 66,
      "outputs": []
    },
    {
      "cell_type": "code",
      "source": [
        "df"
      ],
      "metadata": {
        "colab": {
          "base_uri": "https://localhost:8080/",
          "height": 0
        },
        "id": "6RnS30vBas53",
        "outputId": "dabcc582-4343-4764-faab-609b6ac69c80"
      },
      "execution_count": 67,
      "outputs": [
        {
          "output_type": "execute_result",
          "data": {
            "text/plain": [
              "   coluna 01  coluna 02\n",
              "0          1          3\n",
              "1          2          4"
            ],
            "text/html": [
              "\n",
              "  <div id=\"df-abe6c174-7272-4bf6-8032-8e05c881388d\">\n",
              "    <div class=\"colab-df-container\">\n",
              "      <div>\n",
              "<style scoped>\n",
              "    .dataframe tbody tr th:only-of-type {\n",
              "        vertical-align: middle;\n",
              "    }\n",
              "\n",
              "    .dataframe tbody tr th {\n",
              "        vertical-align: top;\n",
              "    }\n",
              "\n",
              "    .dataframe thead th {\n",
              "        text-align: right;\n",
              "    }\n",
              "</style>\n",
              "<table border=\"1\" class=\"dataframe\">\n",
              "  <thead>\n",
              "    <tr style=\"text-align: right;\">\n",
              "      <th></th>\n",
              "      <th>coluna 01</th>\n",
              "      <th>coluna 02</th>\n",
              "    </tr>\n",
              "  </thead>\n",
              "  <tbody>\n",
              "    <tr>\n",
              "      <th>0</th>\n",
              "      <td>1</td>\n",
              "      <td>3</td>\n",
              "    </tr>\n",
              "    <tr>\n",
              "      <th>1</th>\n",
              "      <td>2</td>\n",
              "      <td>4</td>\n",
              "    </tr>\n",
              "  </tbody>\n",
              "</table>\n",
              "</div>\n",
              "      <button class=\"colab-df-convert\" onclick=\"convertToInteractive('df-abe6c174-7272-4bf6-8032-8e05c881388d')\"\n",
              "              title=\"Convert this dataframe to an interactive table.\"\n",
              "              style=\"display:none;\">\n",
              "        \n",
              "  <svg xmlns=\"http://www.w3.org/2000/svg\" height=\"24px\"viewBox=\"0 0 24 24\"\n",
              "       width=\"24px\">\n",
              "    <path d=\"M0 0h24v24H0V0z\" fill=\"none\"/>\n",
              "    <path d=\"M18.56 5.44l.94 2.06.94-2.06 2.06-.94-2.06-.94-.94-2.06-.94 2.06-2.06.94zm-11 1L8.5 8.5l.94-2.06 2.06-.94-2.06-.94L8.5 2.5l-.94 2.06-2.06.94zm10 10l.94 2.06.94-2.06 2.06-.94-2.06-.94-.94-2.06-.94 2.06-2.06.94z\"/><path d=\"M17.41 7.96l-1.37-1.37c-.4-.4-.92-.59-1.43-.59-.52 0-1.04.2-1.43.59L10.3 9.45l-7.72 7.72c-.78.78-.78 2.05 0 2.83L4 21.41c.39.39.9.59 1.41.59.51 0 1.02-.2 1.41-.59l7.78-7.78 2.81-2.81c.8-.78.8-2.07 0-2.86zM5.41 20L4 18.59l7.72-7.72 1.47 1.35L5.41 20z\"/>\n",
              "  </svg>\n",
              "      </button>\n",
              "      \n",
              "  <style>\n",
              "    .colab-df-container {\n",
              "      display:flex;\n",
              "      flex-wrap:wrap;\n",
              "      gap: 12px;\n",
              "    }\n",
              "\n",
              "    .colab-df-convert {\n",
              "      background-color: #E8F0FE;\n",
              "      border: none;\n",
              "      border-radius: 50%;\n",
              "      cursor: pointer;\n",
              "      display: none;\n",
              "      fill: #1967D2;\n",
              "      height: 32px;\n",
              "      padding: 0 0 0 0;\n",
              "      width: 32px;\n",
              "    }\n",
              "\n",
              "    .colab-df-convert:hover {\n",
              "      background-color: #E2EBFA;\n",
              "      box-shadow: 0px 1px 2px rgba(60, 64, 67, 0.3), 0px 1px 3px 1px rgba(60, 64, 67, 0.15);\n",
              "      fill: #174EA6;\n",
              "    }\n",
              "\n",
              "    [theme=dark] .colab-df-convert {\n",
              "      background-color: #3B4455;\n",
              "      fill: #D2E3FC;\n",
              "    }\n",
              "\n",
              "    [theme=dark] .colab-df-convert:hover {\n",
              "      background-color: #434B5C;\n",
              "      box-shadow: 0px 1px 3px 1px rgba(0, 0, 0, 0.15);\n",
              "      filter: drop-shadow(0px 1px 2px rgba(0, 0, 0, 0.3));\n",
              "      fill: #FFFFFF;\n",
              "    }\n",
              "  </style>\n",
              "\n",
              "      <script>\n",
              "        const buttonEl =\n",
              "          document.querySelector('#df-abe6c174-7272-4bf6-8032-8e05c881388d button.colab-df-convert');\n",
              "        buttonEl.style.display =\n",
              "          google.colab.kernel.accessAllowed ? 'block' : 'none';\n",
              "\n",
              "        async function convertToInteractive(key) {\n",
              "          const element = document.querySelector('#df-abe6c174-7272-4bf6-8032-8e05c881388d');\n",
              "          const dataTable =\n",
              "            await google.colab.kernel.invokeFunction('convertToInteractive',\n",
              "                                                     [key], {});\n",
              "          if (!dataTable) return;\n",
              "\n",
              "          const docLinkHtml = 'Like what you see? Visit the ' +\n",
              "            '<a target=\"_blank\" href=https://colab.research.google.com/notebooks/data_table.ipynb>data table notebook</a>'\n",
              "            + ' to learn more about interactive tables.';\n",
              "          element.innerHTML = '';\n",
              "          dataTable['output_type'] = 'display_data';\n",
              "          await google.colab.output.renderOutput(dataTable, element);\n",
              "          const docLink = document.createElement('div');\n",
              "          docLink.innerHTML = docLinkHtml;\n",
              "          element.appendChild(docLink);\n",
              "        }\n",
              "      </script>\n",
              "    </div>\n",
              "  </div>\n",
              "  "
            ]
          },
          "metadata": {},
          "execution_count": 67
        }
      ]
    },
    {
      "cell_type": "markdown",
      "source": [
        "**exemplo 02**"
      ],
      "metadata": {
        "id": "TbxGa5Cka0JI"
      }
    },
    {
      "cell_type": "code",
      "source": [
        "import pandas as pd\n",
        "dados_2 = {'Produto': ['A', 'B'], 'Valor': [100, 500]}\n",
        "df_2 = pd.DataFrame(data = dados_2)\n",
        "df_2"
      ],
      "metadata": {
        "colab": {
          "base_uri": "https://localhost:8080/",
          "height": 0
        },
        "id": "Px0UWN8Qa1Ou",
        "outputId": "ec9a5807-ffeb-43e9-b153-04c4fed25493"
      },
      "execution_count": 68,
      "outputs": [
        {
          "output_type": "execute_result",
          "data": {
            "text/plain": [
              "  Produto  Valor\n",
              "0       A    100\n",
              "1       B    500"
            ],
            "text/html": [
              "\n",
              "  <div id=\"df-0a438f05-5bb6-4a5e-bfcd-3fa68d6b544c\">\n",
              "    <div class=\"colab-df-container\">\n",
              "      <div>\n",
              "<style scoped>\n",
              "    .dataframe tbody tr th:only-of-type {\n",
              "        vertical-align: middle;\n",
              "    }\n",
              "\n",
              "    .dataframe tbody tr th {\n",
              "        vertical-align: top;\n",
              "    }\n",
              "\n",
              "    .dataframe thead th {\n",
              "        text-align: right;\n",
              "    }\n",
              "</style>\n",
              "<table border=\"1\" class=\"dataframe\">\n",
              "  <thead>\n",
              "    <tr style=\"text-align: right;\">\n",
              "      <th></th>\n",
              "      <th>Produto</th>\n",
              "      <th>Valor</th>\n",
              "    </tr>\n",
              "  </thead>\n",
              "  <tbody>\n",
              "    <tr>\n",
              "      <th>0</th>\n",
              "      <td>A</td>\n",
              "      <td>100</td>\n",
              "    </tr>\n",
              "    <tr>\n",
              "      <th>1</th>\n",
              "      <td>B</td>\n",
              "      <td>500</td>\n",
              "    </tr>\n",
              "  </tbody>\n",
              "</table>\n",
              "</div>\n",
              "      <button class=\"colab-df-convert\" onclick=\"convertToInteractive('df-0a438f05-5bb6-4a5e-bfcd-3fa68d6b544c')\"\n",
              "              title=\"Convert this dataframe to an interactive table.\"\n",
              "              style=\"display:none;\">\n",
              "        \n",
              "  <svg xmlns=\"http://www.w3.org/2000/svg\" height=\"24px\"viewBox=\"0 0 24 24\"\n",
              "       width=\"24px\">\n",
              "    <path d=\"M0 0h24v24H0V0z\" fill=\"none\"/>\n",
              "    <path d=\"M18.56 5.44l.94 2.06.94-2.06 2.06-.94-2.06-.94-.94-2.06-.94 2.06-2.06.94zm-11 1L8.5 8.5l.94-2.06 2.06-.94-2.06-.94L8.5 2.5l-.94 2.06-2.06.94zm10 10l.94 2.06.94-2.06 2.06-.94-2.06-.94-.94-2.06-.94 2.06-2.06.94z\"/><path d=\"M17.41 7.96l-1.37-1.37c-.4-.4-.92-.59-1.43-.59-.52 0-1.04.2-1.43.59L10.3 9.45l-7.72 7.72c-.78.78-.78 2.05 0 2.83L4 21.41c.39.39.9.59 1.41.59.51 0 1.02-.2 1.41-.59l7.78-7.78 2.81-2.81c.8-.78.8-2.07 0-2.86zM5.41 20L4 18.59l7.72-7.72 1.47 1.35L5.41 20z\"/>\n",
              "  </svg>\n",
              "      </button>\n",
              "      \n",
              "  <style>\n",
              "    .colab-df-container {\n",
              "      display:flex;\n",
              "      flex-wrap:wrap;\n",
              "      gap: 12px;\n",
              "    }\n",
              "\n",
              "    .colab-df-convert {\n",
              "      background-color: #E8F0FE;\n",
              "      border: none;\n",
              "      border-radius: 50%;\n",
              "      cursor: pointer;\n",
              "      display: none;\n",
              "      fill: #1967D2;\n",
              "      height: 32px;\n",
              "      padding: 0 0 0 0;\n",
              "      width: 32px;\n",
              "    }\n",
              "\n",
              "    .colab-df-convert:hover {\n",
              "      background-color: #E2EBFA;\n",
              "      box-shadow: 0px 1px 2px rgba(60, 64, 67, 0.3), 0px 1px 3px 1px rgba(60, 64, 67, 0.15);\n",
              "      fill: #174EA6;\n",
              "    }\n",
              "\n",
              "    [theme=dark] .colab-df-convert {\n",
              "      background-color: #3B4455;\n",
              "      fill: #D2E3FC;\n",
              "    }\n",
              "\n",
              "    [theme=dark] .colab-df-convert:hover {\n",
              "      background-color: #434B5C;\n",
              "      box-shadow: 0px 1px 3px 1px rgba(0, 0, 0, 0.15);\n",
              "      filter: drop-shadow(0px 1px 2px rgba(0, 0, 0, 0.3));\n",
              "      fill: #FFFFFF;\n",
              "    }\n",
              "  </style>\n",
              "\n",
              "      <script>\n",
              "        const buttonEl =\n",
              "          document.querySelector('#df-0a438f05-5bb6-4a5e-bfcd-3fa68d6b544c button.colab-df-convert');\n",
              "        buttonEl.style.display =\n",
              "          google.colab.kernel.accessAllowed ? 'block' : 'none';\n",
              "\n",
              "        async function convertToInteractive(key) {\n",
              "          const element = document.querySelector('#df-0a438f05-5bb6-4a5e-bfcd-3fa68d6b544c');\n",
              "          const dataTable =\n",
              "            await google.colab.kernel.invokeFunction('convertToInteractive',\n",
              "                                                     [key], {});\n",
              "          if (!dataTable) return;\n",
              "\n",
              "          const docLinkHtml = 'Like what you see? Visit the ' +\n",
              "            '<a target=\"_blank\" href=https://colab.research.google.com/notebooks/data_table.ipynb>data table notebook</a>'\n",
              "            + ' to learn more about interactive tables.';\n",
              "          element.innerHTML = '';\n",
              "          dataTable['output_type'] = 'display_data';\n",
              "          await google.colab.output.renderOutput(dataTable, element);\n",
              "          const docLink = document.createElement('div');\n",
              "          docLink.innerHTML = docLinkHtml;\n",
              "          element.appendChild(docLink);\n",
              "        }\n",
              "      </script>\n",
              "    </div>\n",
              "  </div>\n",
              "  "
            ]
          },
          "metadata": {},
          "execution_count": 68
        }
      ]
    },
    {
      "cell_type": "markdown",
      "source": [
        "**exemplo 03**"
      ],
      "metadata": {
        "id": "2nRt7T1oa6T1"
      }
    },
    {
      "cell_type": "code",
      "source": [
        "#Adicionar nova coluna\n",
        "df_2['Estoque'] = [200, 707]\n",
        "df_2"
      ],
      "metadata": {
        "colab": {
          "base_uri": "https://localhost:8080/",
          "height": 0
        },
        "id": "dYfk0jXZa7rt",
        "outputId": "3d3e720b-2a36-403d-a468-e351170abf05"
      },
      "execution_count": 69,
      "outputs": [
        {
          "output_type": "execute_result",
          "data": {
            "text/plain": [
              "  Produto  Valor  Estoque\n",
              "0       A    100      200\n",
              "1       B    500      707"
            ],
            "text/html": [
              "\n",
              "  <div id=\"df-e6c1087a-3368-4f1d-98d0-3fd0a3bac481\">\n",
              "    <div class=\"colab-df-container\">\n",
              "      <div>\n",
              "<style scoped>\n",
              "    .dataframe tbody tr th:only-of-type {\n",
              "        vertical-align: middle;\n",
              "    }\n",
              "\n",
              "    .dataframe tbody tr th {\n",
              "        vertical-align: top;\n",
              "    }\n",
              "\n",
              "    .dataframe thead th {\n",
              "        text-align: right;\n",
              "    }\n",
              "</style>\n",
              "<table border=\"1\" class=\"dataframe\">\n",
              "  <thead>\n",
              "    <tr style=\"text-align: right;\">\n",
              "      <th></th>\n",
              "      <th>Produto</th>\n",
              "      <th>Valor</th>\n",
              "      <th>Estoque</th>\n",
              "    </tr>\n",
              "  </thead>\n",
              "  <tbody>\n",
              "    <tr>\n",
              "      <th>0</th>\n",
              "      <td>A</td>\n",
              "      <td>100</td>\n",
              "      <td>200</td>\n",
              "    </tr>\n",
              "    <tr>\n",
              "      <th>1</th>\n",
              "      <td>B</td>\n",
              "      <td>500</td>\n",
              "      <td>707</td>\n",
              "    </tr>\n",
              "  </tbody>\n",
              "</table>\n",
              "</div>\n",
              "      <button class=\"colab-df-convert\" onclick=\"convertToInteractive('df-e6c1087a-3368-4f1d-98d0-3fd0a3bac481')\"\n",
              "              title=\"Convert this dataframe to an interactive table.\"\n",
              "              style=\"display:none;\">\n",
              "        \n",
              "  <svg xmlns=\"http://www.w3.org/2000/svg\" height=\"24px\"viewBox=\"0 0 24 24\"\n",
              "       width=\"24px\">\n",
              "    <path d=\"M0 0h24v24H0V0z\" fill=\"none\"/>\n",
              "    <path d=\"M18.56 5.44l.94 2.06.94-2.06 2.06-.94-2.06-.94-.94-2.06-.94 2.06-2.06.94zm-11 1L8.5 8.5l.94-2.06 2.06-.94-2.06-.94L8.5 2.5l-.94 2.06-2.06.94zm10 10l.94 2.06.94-2.06 2.06-.94-2.06-.94-.94-2.06-.94 2.06-2.06.94z\"/><path d=\"M17.41 7.96l-1.37-1.37c-.4-.4-.92-.59-1.43-.59-.52 0-1.04.2-1.43.59L10.3 9.45l-7.72 7.72c-.78.78-.78 2.05 0 2.83L4 21.41c.39.39.9.59 1.41.59.51 0 1.02-.2 1.41-.59l7.78-7.78 2.81-2.81c.8-.78.8-2.07 0-2.86zM5.41 20L4 18.59l7.72-7.72 1.47 1.35L5.41 20z\"/>\n",
              "  </svg>\n",
              "      </button>\n",
              "      \n",
              "  <style>\n",
              "    .colab-df-container {\n",
              "      display:flex;\n",
              "      flex-wrap:wrap;\n",
              "      gap: 12px;\n",
              "    }\n",
              "\n",
              "    .colab-df-convert {\n",
              "      background-color: #E8F0FE;\n",
              "      border: none;\n",
              "      border-radius: 50%;\n",
              "      cursor: pointer;\n",
              "      display: none;\n",
              "      fill: #1967D2;\n",
              "      height: 32px;\n",
              "      padding: 0 0 0 0;\n",
              "      width: 32px;\n",
              "    }\n",
              "\n",
              "    .colab-df-convert:hover {\n",
              "      background-color: #E2EBFA;\n",
              "      box-shadow: 0px 1px 2px rgba(60, 64, 67, 0.3), 0px 1px 3px 1px rgba(60, 64, 67, 0.15);\n",
              "      fill: #174EA6;\n",
              "    }\n",
              "\n",
              "    [theme=dark] .colab-df-convert {\n",
              "      background-color: #3B4455;\n",
              "      fill: #D2E3FC;\n",
              "    }\n",
              "\n",
              "    [theme=dark] .colab-df-convert:hover {\n",
              "      background-color: #434B5C;\n",
              "      box-shadow: 0px 1px 3px 1px rgba(0, 0, 0, 0.15);\n",
              "      filter: drop-shadow(0px 1px 2px rgba(0, 0, 0, 0.3));\n",
              "      fill: #FFFFFF;\n",
              "    }\n",
              "  </style>\n",
              "\n",
              "      <script>\n",
              "        const buttonEl =\n",
              "          document.querySelector('#df-e6c1087a-3368-4f1d-98d0-3fd0a3bac481 button.colab-df-convert');\n",
              "        buttonEl.style.display =\n",
              "          google.colab.kernel.accessAllowed ? 'block' : 'none';\n",
              "\n",
              "        async function convertToInteractive(key) {\n",
              "          const element = document.querySelector('#df-e6c1087a-3368-4f1d-98d0-3fd0a3bac481');\n",
              "          const dataTable =\n",
              "            await google.colab.kernel.invokeFunction('convertToInteractive',\n",
              "                                                     [key], {});\n",
              "          if (!dataTable) return;\n",
              "\n",
              "          const docLinkHtml = 'Like what you see? Visit the ' +\n",
              "            '<a target=\"_blank\" href=https://colab.research.google.com/notebooks/data_table.ipynb>data table notebook</a>'\n",
              "            + ' to learn more about interactive tables.';\n",
              "          element.innerHTML = '';\n",
              "          dataTable['output_type'] = 'display_data';\n",
              "          await google.colab.output.renderOutput(dataTable, element);\n",
              "          const docLink = document.createElement('div');\n",
              "          docLink.innerHTML = docLinkHtml;\n",
              "          element.appendChild(docLink);\n",
              "        }\n",
              "      </script>\n",
              "    </div>\n",
              "  </div>\n",
              "  "
            ]
          },
          "metadata": {},
          "execution_count": 69
        }
      ]
    },
    {
      "cell_type": "markdown",
      "source": [
        "**exemplo 04**"
      ],
      "metadata": {
        "id": "PkiE5wRya-ut"
      }
    },
    {
      "cell_type": "code",
      "source": [
        "#Outra forma de adicionar uma coluna\n",
        "df_2.insert(loc=3, column=\"Categoria\", value =['Suco', 'Cereal'])\n",
        "df_2"
      ],
      "metadata": {
        "colab": {
          "base_uri": "https://localhost:8080/",
          "height": 0
        },
        "id": "v4wmWPyUa_8M",
        "outputId": "e3870acb-3a3f-4ca3-f24d-7d8b20726068"
      },
      "execution_count": 70,
      "outputs": [
        {
          "output_type": "execute_result",
          "data": {
            "text/plain": [
              "  Produto  Valor  Estoque Categoria\n",
              "0       A    100      200      Suco\n",
              "1       B    500      707    Cereal"
            ],
            "text/html": [
              "\n",
              "  <div id=\"df-0af009e8-cb17-4a72-beaf-b0fee3b4299e\">\n",
              "    <div class=\"colab-df-container\">\n",
              "      <div>\n",
              "<style scoped>\n",
              "    .dataframe tbody tr th:only-of-type {\n",
              "        vertical-align: middle;\n",
              "    }\n",
              "\n",
              "    .dataframe tbody tr th {\n",
              "        vertical-align: top;\n",
              "    }\n",
              "\n",
              "    .dataframe thead th {\n",
              "        text-align: right;\n",
              "    }\n",
              "</style>\n",
              "<table border=\"1\" class=\"dataframe\">\n",
              "  <thead>\n",
              "    <tr style=\"text-align: right;\">\n",
              "      <th></th>\n",
              "      <th>Produto</th>\n",
              "      <th>Valor</th>\n",
              "      <th>Estoque</th>\n",
              "      <th>Categoria</th>\n",
              "    </tr>\n",
              "  </thead>\n",
              "  <tbody>\n",
              "    <tr>\n",
              "      <th>0</th>\n",
              "      <td>A</td>\n",
              "      <td>100</td>\n",
              "      <td>200</td>\n",
              "      <td>Suco</td>\n",
              "    </tr>\n",
              "    <tr>\n",
              "      <th>1</th>\n",
              "      <td>B</td>\n",
              "      <td>500</td>\n",
              "      <td>707</td>\n",
              "      <td>Cereal</td>\n",
              "    </tr>\n",
              "  </tbody>\n",
              "</table>\n",
              "</div>\n",
              "      <button class=\"colab-df-convert\" onclick=\"convertToInteractive('df-0af009e8-cb17-4a72-beaf-b0fee3b4299e')\"\n",
              "              title=\"Convert this dataframe to an interactive table.\"\n",
              "              style=\"display:none;\">\n",
              "        \n",
              "  <svg xmlns=\"http://www.w3.org/2000/svg\" height=\"24px\"viewBox=\"0 0 24 24\"\n",
              "       width=\"24px\">\n",
              "    <path d=\"M0 0h24v24H0V0z\" fill=\"none\"/>\n",
              "    <path d=\"M18.56 5.44l.94 2.06.94-2.06 2.06-.94-2.06-.94-.94-2.06-.94 2.06-2.06.94zm-11 1L8.5 8.5l.94-2.06 2.06-.94-2.06-.94L8.5 2.5l-.94 2.06-2.06.94zm10 10l.94 2.06.94-2.06 2.06-.94-2.06-.94-.94-2.06-.94 2.06-2.06.94z\"/><path d=\"M17.41 7.96l-1.37-1.37c-.4-.4-.92-.59-1.43-.59-.52 0-1.04.2-1.43.59L10.3 9.45l-7.72 7.72c-.78.78-.78 2.05 0 2.83L4 21.41c.39.39.9.59 1.41.59.51 0 1.02-.2 1.41-.59l7.78-7.78 2.81-2.81c.8-.78.8-2.07 0-2.86zM5.41 20L4 18.59l7.72-7.72 1.47 1.35L5.41 20z\"/>\n",
              "  </svg>\n",
              "      </button>\n",
              "      \n",
              "  <style>\n",
              "    .colab-df-container {\n",
              "      display:flex;\n",
              "      flex-wrap:wrap;\n",
              "      gap: 12px;\n",
              "    }\n",
              "\n",
              "    .colab-df-convert {\n",
              "      background-color: #E8F0FE;\n",
              "      border: none;\n",
              "      border-radius: 50%;\n",
              "      cursor: pointer;\n",
              "      display: none;\n",
              "      fill: #1967D2;\n",
              "      height: 32px;\n",
              "      padding: 0 0 0 0;\n",
              "      width: 32px;\n",
              "    }\n",
              "\n",
              "    .colab-df-convert:hover {\n",
              "      background-color: #E2EBFA;\n",
              "      box-shadow: 0px 1px 2px rgba(60, 64, 67, 0.3), 0px 1px 3px 1px rgba(60, 64, 67, 0.15);\n",
              "      fill: #174EA6;\n",
              "    }\n",
              "\n",
              "    [theme=dark] .colab-df-convert {\n",
              "      background-color: #3B4455;\n",
              "      fill: #D2E3FC;\n",
              "    }\n",
              "\n",
              "    [theme=dark] .colab-df-convert:hover {\n",
              "      background-color: #434B5C;\n",
              "      box-shadow: 0px 1px 3px 1px rgba(0, 0, 0, 0.15);\n",
              "      filter: drop-shadow(0px 1px 2px rgba(0, 0, 0, 0.3));\n",
              "      fill: #FFFFFF;\n",
              "    }\n",
              "  </style>\n",
              "\n",
              "      <script>\n",
              "        const buttonEl =\n",
              "          document.querySelector('#df-0af009e8-cb17-4a72-beaf-b0fee3b4299e button.colab-df-convert');\n",
              "        buttonEl.style.display =\n",
              "          google.colab.kernel.accessAllowed ? 'block' : 'none';\n",
              "\n",
              "        async function convertToInteractive(key) {\n",
              "          const element = document.querySelector('#df-0af009e8-cb17-4a72-beaf-b0fee3b4299e');\n",
              "          const dataTable =\n",
              "            await google.colab.kernel.invokeFunction('convertToInteractive',\n",
              "                                                     [key], {});\n",
              "          if (!dataTable) return;\n",
              "\n",
              "          const docLinkHtml = 'Like what you see? Visit the ' +\n",
              "            '<a target=\"_blank\" href=https://colab.research.google.com/notebooks/data_table.ipynb>data table notebook</a>'\n",
              "            + ' to learn more about interactive tables.';\n",
              "          element.innerHTML = '';\n",
              "          dataTable['output_type'] = 'display_data';\n",
              "          await google.colab.output.renderOutput(dataTable, element);\n",
              "          const docLink = document.createElement('div');\n",
              "          docLink.innerHTML = docLinkHtml;\n",
              "          element.appendChild(docLink);\n",
              "        }\n",
              "      </script>\n",
              "    </div>\n",
              "  </div>\n",
              "  "
            ]
          },
          "metadata": {},
          "execution_count": 70
        }
      ]
    },
    {
      "cell_type": "markdown",
      "source": [
        "# **Funcoes**"
      ],
      "metadata": {
        "id": "SHwVUTlQbkAt"
      }
    },
    {
      "cell_type": "markdown",
      "source": [
        "**Exemplo 01: Somar todos os elementos de uma lista.**"
      ],
      "metadata": {
        "id": "2zl4626Gbom8"
      }
    },
    {
      "cell_type": "code",
      "source": [
        "def somatorio(lista):\n",
        "  soma=0\n",
        "  for elem in lista:\n",
        "    soma = soma + elem\n",
        "  return soma"
      ],
      "metadata": {
        "id": "pTWrwNbMblo1"
      },
      "execution_count": 71,
      "outputs": []
    },
    {
      "cell_type": "code",
      "source": [
        "lista_teste = [1,10,2,5,2,5]\n",
        "resultado = somatorio(lista_teste)\n",
        "print(\"O somatorio dos elementos da lista é:[{}]\".format(resultado))"
      ],
      "metadata": {
        "colab": {
          "base_uri": "https://localhost:8080/"
        },
        "id": "6eZECdN4cL0e",
        "outputId": "d0c17688-5e22-4926-8279-b29c99a08055"
      },
      "execution_count": 72,
      "outputs": [
        {
          "output_type": "stream",
          "name": "stdout",
          "text": [
            "O somatorio dos elementos da lista é:[25]\n"
          ]
        }
      ]
    },
    {
      "cell_type": "markdown",
      "source": [
        "**Exemplo 02: Encontrar o menor elemento de uma lista.**"
      ],
      "metadata": {
        "id": "fbwDLbQ1buFz"
      }
    },
    {
      "cell_type": "code",
      "source": [
        "def obter_minimo(lista):\n",
        "  minimo = lista[0]\n",
        "  for elem in lista:\n",
        "    if(elem < minimo):\n",
        "      minimo = elem\n",
        "  return minimo"
      ],
      "metadata": {
        "id": "Ys4vnMbqb4Cq"
      },
      "execution_count": 73,
      "outputs": []
    },
    {
      "cell_type": "code",
      "source": [
        "lista_teste = [2,10,3,7,-5,1,4,5]\n",
        "menor = obter_minimo(lista_teste)\n",
        "print(\"O menor elemento da lista eh:[{}]\".format(menor))"
      ],
      "metadata": {
        "colab": {
          "base_uri": "https://localhost:8080/"
        },
        "id": "O3owzVC1b7yR",
        "outputId": "1c3ff219-05da-4c6d-dcc9-c05cbf50003d"
      },
      "execution_count": 74,
      "outputs": [
        {
          "output_type": "stream",
          "name": "stdout",
          "text": [
            "O menor elemento da lista eh:[-5]\n"
          ]
        }
      ]
    },
    {
      "cell_type": "markdown",
      "source": [
        "**Exemplo 03: Encontrar o maior valor entre 3 numeros**"
      ],
      "metadata": {
        "id": "g1t7Z25Edk3W"
      }
    },
    {
      "cell_type": "code",
      "source": [
        "#Funcao Lambda\n",
        "funcao_maior = lambda x,y: x if(x>y) else y"
      ],
      "metadata": {
        "id": "_PJTcSsfd3V6"
      },
      "execution_count": 75,
      "outputs": []
    },
    {
      "cell_type": "code",
      "source": [
        "num1 = 10\n",
        "num2 = 30\n",
        "num3 = 20"
      ],
      "metadata": {
        "id": "pxR51whzdxkz"
      },
      "execution_count": 76,
      "outputs": []
    },
    {
      "cell_type": "code",
      "source": [
        "maior01 = funcao_maior(num1,num2)\n",
        "maior = funcao_maior(maior01,num3)\n",
        "print(f'O maior valor entre {num1}, {num2} e {num3} eh: {maior}')"
      ],
      "metadata": {
        "colab": {
          "base_uri": "https://localhost:8080/"
        },
        "id": "TRuEazGWeIyn",
        "outputId": "eaf945ff-3010-4013-81f4-ed48d189beea"
      },
      "execution_count": 77,
      "outputs": [
        {
          "output_type": "stream",
          "name": "stdout",
          "text": [
            "O maior valor entre 10, 30 e 20 eh: 30\n"
          ]
        }
      ]
    },
    {
      "cell_type": "markdown",
      "source": [
        "**Exemplo 04: encontrar o vendedor com melhor desempenho**"
      ],
      "metadata": {
        "id": "N7gmE4eDc8_l"
      }
    },
    {
      "cell_type": "code",
      "source": [
        "lista = [('vendedor 01', 100), ('vendedor 02', 700),('vendedor 03', 200)]"
      ],
      "metadata": {
        "id": "MzXmgSpbdJNr"
      },
      "execution_count": 79,
      "outputs": []
    },
    {
      "cell_type": "code",
      "source": [
        "#Funcao Lambda\n",
        "maior = max(lista,key=lambda item:item[1])[0]    "
      ],
      "metadata": {
        "id": "5_-UhC6edUAp"
      },
      "execution_count": 80,
      "outputs": []
    },
    {
      "cell_type": "code",
      "source": [
        "maior"
      ],
      "metadata": {
        "colab": {
          "base_uri": "https://localhost:8080/",
          "height": 35
        },
        "id": "nK7nTHRAdWIB",
        "outputId": "6eeb6986-cb31-4790-c68d-143f48eb7f08"
      },
      "execution_count": 81,
      "outputs": [
        {
          "output_type": "execute_result",
          "data": {
            "text/plain": [
              "'vendedor 02'"
            ],
            "application/vnd.google.colaboratory.intrinsic+json": {
              "type": "string"
            }
          },
          "metadata": {},
          "execution_count": 81
        }
      ]
    }
  ]
}